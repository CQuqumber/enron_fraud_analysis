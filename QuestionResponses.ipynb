{
 "cells": [
  {
   "cell_type": "markdown",
   "metadata": {},
   "source": [
    "## 問題1： \n",
    "向我们总结此项目的目标以及机器学习对于实现此目标有何帮助。作为答案的部分，提供一些数据集背景信息以及这些信息如何用于回答项目问题。你在获得数据时它们是否包含任何异常值，你是如何进行处理的？【相关标准项：“数据探索”，“异常值调查”】"
   ]
  },
  {
   "cell_type": "markdown",
   "metadata": {},
   "source": [
    "### A:\n",
    "1. 透過boxplot，可以看出有異常值\n",
    "2. 利用scatter，用ＥＤＡ方式判斷是不是，極度異常，就此抓出了**TOTAL**\n",
    "    - 把這欄位刪除，因為這是總合，並不是個體，不能當作poi\n",
    "3.  **other** 存在THE TRAVEL AGENCY IN THE PARK\n",
    "    - 選擇把欄位刪除，理由同上，這不屬於個體\n",
    "4. 剩餘異常值，比對身份都是公司高官， CEO, CFO,chireman，所以保留。"
   ]
  },
  {
   "cell_type": "markdown",
   "metadata": {},
   "source": [
    "## 問題2： \n",
    "你最终在你的 POI 标识符中使用了什么特征，你使用了什么筛选过程来挑选它们？你是否需要进行任何缩放？为什么？作为任务的一部分，你应该尝试设计自己的特征，而非使用数据集中现成的——解释你尝试创建的特征及其基本原理。（你不一定要在最后的分析中使用它，而只设计并测试它）。在你的特征选择步骤，如果你使用了算法（如决策树），请也给出所使用特征的特征重要性；如果你使用了自动特征选择函数（如 SelectBest），请报告特征得分及你所选的参数值的原因。【相关标准项：“创建新特征”、“适当缩放特征”、“智能选择功能”】"
   ]
  },
  {
   "cell_type": "markdown",
   "metadata": {},
   "source": [
    "### A:\n",
    "1. 先刪除過多遺失值的特徵\n",
    "2. 少數遺失值用 '0'去填充\n",
    "3. 創建特徵，總收入 - 獎金 - 薪資，把它平方，再取對數\n",
    "    - 目的是造成，隱藏收入的差異放大\n",
    "4. 把數據進行縮放，因為財務特徵，郵件特徵，統計數據ＳＴＤ，差異過大，數據過大，會主宰其他特徵，所以進行縮放\n",
    "5. 利用ＰＣＡ，ＩＣＡ，ＫＰＣＡ，分別拆解出四個向量，當作特徵。\n",
    "    - 此做法，數學角度去看就是，把整個數據透過數學拆解出，不同成分組合\n",
    "    - PCA 線性，ＩＣＡ獨立性，ＫＰＣＡ非線性\n",
    "6. 最後把以上特徵加入後，使用隨機森林找出，feature importance，前幾項（樣本少，不能全選，避免overfitting）"
   ]
  },
  {
   "cell_type": "markdown",
   "metadata": {},
   "source": [
    "## 問題3：  \n",
    "你最终使用了什么算法？你还尝试了其他什么算法？不同算法之间的模型性能有何差异？【相关标准项：“选择算法”】"
   ]
  },
  {
   "cell_type": "markdown",
   "metadata": {},
   "source": [
    "### A:\n",
    "最終使用**GradientBoostingClassfier**\n",
    "\n",
    "嘗試過以下\n",
    "1. AdaBoostClassfier\n",
    "2. RandomForestClassifier\n",
    "3. SVC\n",
    "\n",
    "在**ensemble**概念就是三個臭裨將，勝過一個諸葛亮，\n",
    "- 在ＳＣＶ平均表現是最差，\n",
    "- AdaBoost內建base_model是决策树，所以也輸給隨機森林\n",
    "- GradientBoost 它基本思想是把成百上千個分類準確率較低的樹模型組合起來，成為一個準確率很高的模型。這個模型會不斷地疊代，每次疊代就生成一顆新的樹。對於如何在每一步生成合理的樹。"
   ]
  },
  {
   "cell_type": "markdown",
   "metadata": {},
   "source": [
    "## 問題4 :\n",
    "调整算法的参数是什么意思，如果你不这样做会发生什么？你是如何调整特定算法的参数的？（一些算法没有需要调整的参数 – 如果你选择的算法是这种情况，指明并简要解释对于你最终未选择的模型或需要参数调整的不同模型，例如决策树分类器，你会怎么做）。【相关标准项：“调整算法”"
   ]
  },
  {
   "cell_type": "markdown",
   "metadata": {},
   "source": [
    "### A:\n",
    "調整算法參數，會改變輸出結果，像是Learning Rate，過大容易發散，太小不容易收斂。如果不調整參數，算法表現就無法得到進一步優化。\n",
    "\n",
    "我選用[GradientBoostingClassifier](http://scikit-learn.org/stable/modules/generated/sklearn.ensemble.GradientBoostingClassifier.html#sklearn.ensemble.GradientBoostingClassifier)。\n",
    "參數入選\n",
    "1. learning_rate\n",
    "2. max_depth\n",
    "3. min_samples_split\n",
    "4. subsample\n",
    "\n",
    "作法：\n",
    "1. 使用GridSearch 先針對，單一參數，進行大範圍測試\n",
    "    - `learning_rate : [0.1, 0.01, 0.001, 0.0001]`\n",
    "    \n",
    "2. 找出最優的範圍後，再針對其他參數，進行以上動作，範圍縮小進行，排列組合比對出最優的參數。\n",
    "\n",
    "`\n",
    "{'learning_rate':[1/(10**i) for i in range(1,4)],\n",
    "'max_depth':[2,3,4,5],\n",
    "'min_samples_split':[2,3,4,5],\n",
    "'subsample':[i/10 for i in range(7,10)]}\n",
    "`"
   ]
  },
  {
   "cell_type": "markdown",
   "metadata": {},
   "source": [
    "## 問題5 :\n",
    "什么是验证，未正确执行情况下的典型错误是什么？你是如何验证你的分析的？【相关标准项：“验证策略”】"
   ]
  },
  {
   "cell_type": "markdown",
   "metadata": {},
   "source": [
    "### A:\n",
    "1. 驗證，就是把數據，拆開成，訓練跟測試兩個集合，訓練樣本又再分割出，交叉驗證集合。\n",
    "2. 最典型的錯誤就是，把訓練過的數據，拿去做預測，容易造成overfitting。\n",
    "    - 訓練過的數據表現不好，就是underfitting\n",
    "3. 我把原數據依據8:2拆開，再把訓練集，隨機打散成五份，取其中一份當作交叉驗證，如果表現差異不多，就沒有overfitting問題。"
   ]
  },
  {
   "cell_type": "markdown",
   "metadata": {},
   "source": [
    "## 問題 6:\n",
    "给出至少 2 个评估度量并说明每个的平均性能。解释对用简单的语言表明算法性能的度量的解读。【相关标准项：“评估度量的使用”】"
   ]
  },
  {
   "cell_type": "markdown",
   "metadata": {},
   "source": [
    "我使用Precision Recall當作主要兩個評估度量，因為數據有限\n",
    "\n",
    "I used Precision and Recall as the two primary evaluation metrics. Since I have limited dataset, I don't think it will be a good metric to use in this case. Precision is defined as (true positives)/(true positive+false positive). Recall which is described as sensitivity is defined as: (true positives)/(true positive+false negative)."
   ]
  }
 ],
 "metadata": {
  "kernelspec": {
   "display_name": "Python 2",
   "language": "python",
   "name": "python2"
  },
  "language_info": {
   "codemirror_mode": {
    "name": "ipython",
    "version": 2
   },
   "file_extension": ".py",
   "mimetype": "text/x-python",
   "name": "python",
   "nbconvert_exporter": "python",
   "pygments_lexer": "ipython2",
   "version": "2.7.13"
  }
 },
 "nbformat": 4,
 "nbformat_minor": 2
}
